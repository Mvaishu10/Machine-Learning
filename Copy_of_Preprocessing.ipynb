{
  "cells": [
    {
      "cell_type": "markdown",
      "metadata": {
        "id": "view-in-github",
        "colab_type": "text"
      },
      "source": [
        "<a href=\"https://colab.research.google.com/github/Mvaishu10/Machine-Learning/blob/main/Copy_of_Preprocessing.ipynb\" target=\"_parent\"><img src=\"https://colab.research.google.com/assets/colab-badge.svg\" alt=\"Open In Colab\"/></a>"
      ]
    },
    {
      "cell_type": "code",
      "execution_count": null,
      "metadata": {
        "colab": {
          "base_uri": "https://localhost:8080/"
        },
        "id": "TUQAu40hq1yy",
        "outputId": "c46ae52d-9416-471b-da3f-64346ea5ede4"
      },
      "outputs": [
        {
          "name": "stdout",
          "output_type": "stream",
          "text": [
            "Mounted at /content/drive\n"
          ]
        }
      ],
      "source": [
        "#Mount our google drive\n",
        "from google.colab import drive\n",
        "drive.mount('/content/drive')"
      ]
    },
    {
      "cell_type": "code",
      "execution_count": null,
      "metadata": {
        "colab": {
          "base_uri": "https://localhost:8080/"
        },
        "id": "2O9fd0KwrN_C",
        "outputId": "77b4548f-2407-4425-b66f-e9fd08cd24f0"
      },
      "outputs": [
        {
          "name": "stdout",
          "output_type": "stream",
          "text": [
            "frames [299, 299, 300, 300, 299, 299, 299, 300, 299, 299, 299, 300, 299, 299, 299, 299, 299, 299, 300, 299, 299, 299, 299, 299, 299, 299, 299, 299, 299, 299, 299, 299, 300, 300, 299, 299, 299, 300, 300, 299, 300, 299, 299, 299, 299, 299, 299, 299, 299, 300, 300, 300, 299, 299, 300, 299, 299, 300, 299, 299, 299, 299, 299, 300, 299, 299, 299, 299, 299, 299, 300, 299, 299, 299, 300, 299, 299, 300, 299, 299, 299, 300, 299, 299, 299, 299, 299, 299, 299, 299, 300, 299, 299, 300, 299, 299, 300, 299, 299, 300, 299, 299, 299, 299, 300, 299, 299, 299, 300, 299, 299, 299, 299, 299, 299, 299, 299, 299, 299, 299, 299, 299, 299, 300, 299, 299, 299, 299, 300, 299, 299, 300, 299, 299, 299, 299, 299, 299, 300, 299, 299, 299, 299, 299, 299, 299, 299, 300, 299, 299, 299, 300, 299, 299, 300, 299, 299, 299, 299, 299, 299, 299, 299, 300, 300, 300, 299, 299, 299, 300, 299, 299, 299, 299, 299, 299, 300, 299, 299, 299, 299, 299, 299, 299, 299, 299, 299, 299, 300, 300, 300, 299, 299, 299, 299, 299, 299, 300, 299, 299]\n",
            "Total number of videos:  200\n",
            "Average frame per video: 299.21\n"
          ]
        }
      ],
      "source": [
        "#To get the average frame count\n",
        "import json\n",
        "import glob\n",
        "import numpy as np\n",
        "import cv2\n",
        "import copy\n",
        "#change the path accordingly\n",
        "# video_files =  glob.glob('/content/Real videos/*.mp4')\n",
        "video_files =  glob.glob('/content/drive/MyDrive/dfdc_train_part_001/*.mp4')\n",
        "#video_files += video_files1\n",
        "frame_count = []\n",
        "for video_file in video_files:\n",
        "  cap = cv2.VideoCapture(video_file)\n",
        "  if(int(cap.get(cv2.CAP_PROP_FRAME_COUNT))<150):\n",
        "    video_files.remove(video_file)\n",
        "    continue\n",
        "  frame_count.append(int(cap.get(cv2.CAP_PROP_FRAME_COUNT)))\n",
        "print(\"frames\" , frame_count)\n",
        "print(\"Total number of videos: \" , len(frame_count))\n",
        "print('Average frame per video:',np.mean(frame_count))"
      ]
    },
    {
      "cell_type": "code",
      "execution_count": null,
      "metadata": {
        "colab": {
          "base_uri": "https://localhost:8080/"
        },
        "id": "vuT704MrrOD4",
        "outputId": "855e50c1-ed21-4770-e3c2-756cb96c0a96"
      },
      "outputs": [
        {
          "name": "stdout",
          "output_type": "stream",
          "text": [
            "Collecting face_recognition\n",
            "  Downloading face_recognition-1.3.0-py2.py3-none-any.whl (15 kB)\n",
            "Collecting face-recognition-models>=0.3.0 (from face_recognition)\n",
            "  Downloading face_recognition_models-0.3.0.tar.gz (100.1 MB)\n",
            "\u001b[2K     \u001b[90m━━━━━━━━━━━━━━━━━━━━━━━━━━━━━━━━━━━━━━\u001b[0m \u001b[32m100.1/100.1 MB\u001b[0m \u001b[31m18.0 MB/s\u001b[0m eta \u001b[36m0:00:00\u001b[0m\n",
            "\u001b[?25h  Preparing metadata (setup.py) ... \u001b[?25l\u001b[?25hdone\n",
            "Requirement already satisfied: Click>=6.0 in /usr/local/lib/python3.10/dist-packages (from face_recognition) (8.1.7)\n",
            "Requirement already satisfied: dlib>=19.7 in /usr/local/lib/python3.10/dist-packages (from face_recognition) (19.24.2)\n",
            "Requirement already satisfied: numpy in /usr/local/lib/python3.10/dist-packages (from face_recognition) (1.23.5)\n",
            "Requirement already satisfied: Pillow in /usr/local/lib/python3.10/dist-packages (from face_recognition) (9.4.0)\n",
            "Building wheels for collected packages: face-recognition-models\n",
            "  Building wheel for face-recognition-models (setup.py) ... \u001b[?25l\u001b[?25hdone\n",
            "  Created wheel for face-recognition-models: filename=face_recognition_models-0.3.0-py2.py3-none-any.whl size=100566171 sha256=ece8dbd4a10b510c0334e40b8fdd1c560b5ea1eb0cd158fbe317eae561ad05c3\n",
            "  Stored in directory: /root/.cache/pip/wheels/7a/eb/cf/e9eced74122b679557f597bb7c8e4c739cfcac526db1fd523d\n",
            "Successfully built face-recognition-models\n",
            "Installing collected packages: face-recognition-models, face_recognition\n",
            "Successfully installed face-recognition-models-0.3.0 face_recognition-1.3.0\n"
          ]
        },
        {
          "name": "stderr",
          "output_type": "stream",
          "text": [
            "<ipython-input-3-6f3d9f9729cf>:21: TqdmExperimentalWarning: Using `tqdm.autonotebook.tqdm` in notebook mode. Use `tqdm.tqdm` instead to force console mode (e.g. in jupyter console)\n",
            "  from tqdm.autonotebook import tqdm\n"
          ]
        }
      ],
      "source": [
        "# to extract frame\n",
        "def frame_extract(path):\n",
        "  vidObj = cv2.VideoCapture(path)\n",
        "  success = 1\n",
        "  while success:\n",
        "      success, image = vidObj.read()\n",
        "      if success:\n",
        "          yield image\n",
        "!pip3 install face_recognition\n",
        "!mkdir '/content/drive/MyDrive/Face_only_data'\n",
        "import torch\n",
        "import torchvision\n",
        "from torchvision import transforms\n",
        "from torch.utils.data import DataLoader\n",
        "from torch.utils.data.dataset import Dataset\n",
        "import os\n",
        "import numpy as np\n",
        "import cv2\n",
        "import matplotlib.pyplot as plt\n",
        "import face_recognition\n",
        "from tqdm.autonotebook import tqdm\n",
        "# process the frames\n",
        "def create_face_videos(path_list,out_dir):\n",
        "  already_present_count =  glob.glob(out_dir+'*.mp4')\n",
        "  print(\"No of videos already present \" , len(already_present_count))\n",
        "  for path in tqdm(path_list):\n",
        "    out_path = os.path.join(out_dir,path.split('/')[-1])\n",
        "    file_exists = glob.glob(out_path)\n",
        "    if(len(file_exists) != 0):\n",
        "      print(\"File Already exists: \" , out_path)\n",
        "      continue\n",
        "    frames = []\n",
        "    flag = 0\n",
        "    face_all = []\n",
        "    frames1 = []\n",
        "    out = cv2.VideoWriter(out_path,cv2.VideoWriter_fourcc('M','J','P','G'), 30, (112,112))\n",
        "    for idx,frame in enumerate(frame_extract(path)):\n",
        "      #if(idx % 3 == 0):\n",
        "      if(idx <= 150):\n",
        "        frames.append(frame)\n",
        "        if(len(frames) == 4):\n",
        "          faces = face_recognition.batch_face_locations(frames)\n",
        "          for i,face in enumerate(faces):\n",
        "            if(len(face) != 0):\n",
        "              top,right,bottom,left = face[0]\n",
        "            try:\n",
        "              out.write(cv2.resize(frames[i][top:bottom,left:right,:],(112,112)))\n",
        "            except:\n",
        "              pass\n",
        "          frames = []\n",
        "    try:\n",
        "      del top,right,bottom,left\n",
        "    except:\n",
        "      pass\n",
        "    out.release()"
      ]
    },
    {
      "cell_type": "code",
      "execution_count": null,
      "metadata": {
        "colab": {
          "base_uri": "https://localhost:8080/",
          "height": 975,
          "referenced_widgets": [
            "faf59c5940444797b44ddee06e50da96",
            "134a1ad707fe4a1596f17360c999e24f",
            "3a9777b4371d470f94b37b57d157372f",
            "d6cb5ae93fa54b7fab23638acdcba48c",
            "afd5294cb9734837bc842e5061ea2e36",
            "319cf6a786924beab5b786e985e7bf25",
            "d871a84afb234954bc67231ea58db72d",
            "66cb55cc09474862af0dda9ea74aea94",
            "ddc72bdd1c8c4c37ac80e54df46d7b9c",
            "6b6f363057ff4a37812fc86be95976af",
            "6c5e00ec124643d38f3f68b078018b7c"
          ]
        },
        "id": "Ln62FhVvrOGp",
        "outputId": "e50dcefc-611a-4db0-8c4e-7ed5220a20a5"
      },
      "outputs": [
        {
          "output_type": "stream",
          "name": "stdout",
          "text": [
            "No of videos already present  0\n"
          ]
        },
        {
          "output_type": "display_data",
          "data": {
            "text/plain": [
              "  0%|          | 0/200 [00:00<?, ?it/s]"
            ],
            "application/vnd.jupyter.widget-view+json": {
              "version_major": 2,
              "version_minor": 0,
              "model_id": "faf59c5940444797b44ddee06e50da96"
            }
          },
          "metadata": {}
        },
        {
          "output_type": "stream",
          "name": "stdout",
          "text": [
            "File Already exists:  /content/drive/MyDrive/Face_only_data/asnpsowhyj.mp4\n",
            "File Already exists:  /content/drive/MyDrive/Face_only_data/assnxglavo.mp4\n",
            "File Already exists:  /content/drive/MyDrive/Face_only_data/asweglrfni.mp4\n",
            "File Already exists:  /content/drive/MyDrive/Face_only_data/atisizneup.mp4\n",
            "File Already exists:  /content/drive/MyDrive/Face_only_data/atuvrbyqor.mp4\n",
            "File Already exists:  /content/drive/MyDrive/Face_only_data/aunqfjmfqp.mp4\n",
            "File Already exists:  /content/drive/MyDrive/Face_only_data/atrmrdhzrk.mp4\n",
            "File Already exists:  /content/drive/MyDrive/Face_only_data/avfhsplmya.mp4\n",
            "File Already exists:  /content/drive/MyDrive/Face_only_data/avjwhrqbwl.mp4\n",
            "File Already exists:  /content/drive/MyDrive/Face_only_data/avhnnjtuqw.mp4\n",
            "File Already exists:  /content/drive/MyDrive/Face_only_data/avcccznrft.mp4\n",
            "File Already exists:  /content/drive/MyDrive/Face_only_data/awnhnhbbxm.mp4\n",
            "File Already exists:  /content/drive/MyDrive/Face_only_data/axefxbvfyn.mp4\n",
            "File Already exists:  /content/drive/MyDrive/Face_only_data/awfddrmdst.mp4\n",
            "File Already exists:  /content/drive/MyDrive/Face_only_data/avlmlshqjh.mp4\n",
            "File Already exists:  /content/drive/MyDrive/Face_only_data/awjywmwplp.mp4\n",
            "File Already exists:  /content/drive/MyDrive/Face_only_data/axjbcvrvje.mp4\n",
            "File Already exists:  /content/drive/MyDrive/Face_only_data/bbhkszzsei.mp4\n",
            "File Already exists:  /content/drive/MyDrive/Face_only_data/basjckrjdf.mp4\n",
            "File Already exists:  /content/drive/MyDrive/Face_only_data/axgkbpxjvr.mp4\n",
            "File Already exists:  /content/drive/MyDrive/Face_only_data/bateuibxti.mp4\n",
            "File Already exists:  /content/drive/MyDrive/Face_only_data/bbwbopxbrv.mp4\n",
            "File Already exists:  /content/drive/MyDrive/Face_only_data/bciuzbjoxq.mp4\n",
            "File Already exists:  /content/drive/MyDrive/Face_only_data/bcbqxhziqz.mp4\n",
            "File Already exists:  /content/drive/MyDrive/Face_only_data/bcavrprfct.mp4\n",
            "File Already exists:  /content/drive/MyDrive/Face_only_data/bdpwzkrofr.mp4\n",
            "File Already exists:  /content/drive/MyDrive/Face_only_data/bcunmpqmwf.mp4\n",
            "File Already exists:  /content/drive/MyDrive/Face_only_data/bdgcinijzt.mp4\n",
            "File Already exists:  /content/drive/MyDrive/Face_only_data/bdsktfgzbz.mp4\n",
            "File Already exists:  /content/drive/MyDrive/Face_only_data/bdshuoldwx.mp4\n",
            "File Already exists:  /content/drive/MyDrive/Face_only_data/beclytxiol.mp4\n",
            "File Already exists:  /content/drive/MyDrive/Face_only_data/bdvqwpqmag.mp4\n",
            "File Already exists:  /content/drive/MyDrive/Face_only_data/bfeewgzrbr.mp4\n",
            "File Already exists:  /content/drive/MyDrive/Face_only_data/beoobdybbw.mp4\n",
            "File Already exists:  /content/drive/MyDrive/Face_only_data/bewbohouqa.mp4\n",
            "File Already exists:  /content/drive/MyDrive/Face_only_data/bfmvjimrqn.mp4\n",
            "File Already exists:  /content/drive/MyDrive/Face_only_data/bfpqojyrkp.mp4\n",
            "File Already exists:  /content/drive/MyDrive/Face_only_data/bgyaqospgo.mp4\n",
            "File Already exists:  /content/drive/MyDrive/Face_only_data/bhbbqmdjkv.mp4\n",
            "File Already exists:  /content/drive/MyDrive/Face_only_data/bgwmechesv.mp4\n",
            "File Already exists:  /content/drive/MyDrive/Face_only_data/bgtgxubqmy.mp4\n",
            "File Already exists:  /content/drive/MyDrive/Face_only_data/bittxslmgp.mp4\n",
            "File Already exists:  /content/drive/MyDrive/Face_only_data/bjeiutsvuz.mp4\n",
            "File Already exists:  /content/drive/MyDrive/Face_only_data/bhiprtqyon.mp4\n",
            "File Already exists:  /content/drive/MyDrive/Face_only_data/bhfxttitcb.mp4\n",
            "File Already exists:  /content/drive/MyDrive/Face_only_data/bkuzquigyt.mp4\n",
            "File Already exists:  /content/drive/MyDrive/Face_only_data/bjnmhhoayf.mp4\n",
            "File Already exists:  /content/drive/MyDrive/Face_only_data/bjyaxvggle.mp4\n",
            "File Already exists:  /content/drive/MyDrive/Face_only_data/bjuhnomrsu.mp4\n",
            "File Already exists:  /content/drive/MyDrive/Face_only_data/bkxxbtsvkz.mp4\n"
          ]
        }
      ],
      "source": [
        "create_face_videos(video_files,'/content/drive/MyDrive/Face_only_data')"
      ]
    }
  ],
  "metadata": {
    "accelerator": "GPU",
    "colab": {
      "machine_shape": "hm",
      "provenance": [],
      "toc_visible": true,
      "authorship_tag": "ABX9TyMAHD4o/mgctrznFaUiFH5v",
      "include_colab_link": true
    },
    "kernelspec": {
      "display_name": "Python 3",
      "name": "python3"
    },
    "language_info": {
      "name": "python"
    },
    "widgets": {
      "application/vnd.jupyter.widget-state+json": {
        "faf59c5940444797b44ddee06e50da96": {
          "model_module": "@jupyter-widgets/controls",
          "model_name": "HBoxModel",
          "model_module_version": "1.5.0",
          "state": {
            "_dom_classes": [],
            "_model_module": "@jupyter-widgets/controls",
            "_model_module_version": "1.5.0",
            "_model_name": "HBoxModel",
            "_view_count": null,
            "_view_module": "@jupyter-widgets/controls",
            "_view_module_version": "1.5.0",
            "_view_name": "HBoxView",
            "box_style": "",
            "children": [
              "IPY_MODEL_134a1ad707fe4a1596f17360c999e24f",
              "IPY_MODEL_3a9777b4371d470f94b37b57d157372f",
              "IPY_MODEL_d6cb5ae93fa54b7fab23638acdcba48c"
            ],
            "layout": "IPY_MODEL_afd5294cb9734837bc842e5061ea2e36"
          }
        },
        "134a1ad707fe4a1596f17360c999e24f": {
          "model_module": "@jupyter-widgets/controls",
          "model_name": "HTMLModel",
          "model_module_version": "1.5.0",
          "state": {
            "_dom_classes": [],
            "_model_module": "@jupyter-widgets/controls",
            "_model_module_version": "1.5.0",
            "_model_name": "HTMLModel",
            "_view_count": null,
            "_view_module": "@jupyter-widgets/controls",
            "_view_module_version": "1.5.0",
            "_view_name": "HTMLView",
            "description": "",
            "description_tooltip": null,
            "layout": "IPY_MODEL_319cf6a786924beab5b786e985e7bf25",
            "placeholder": "​",
            "style": "IPY_MODEL_d871a84afb234954bc67231ea58db72d",
            "value": "100%"
          }
        },
        "3a9777b4371d470f94b37b57d157372f": {
          "model_module": "@jupyter-widgets/controls",
          "model_name": "FloatProgressModel",
          "model_module_version": "1.5.0",
          "state": {
            "_dom_classes": [],
            "_model_module": "@jupyter-widgets/controls",
            "_model_module_version": "1.5.0",
            "_model_name": "FloatProgressModel",
            "_view_count": null,
            "_view_module": "@jupyter-widgets/controls",
            "_view_module_version": "1.5.0",
            "_view_name": "ProgressView",
            "bar_style": "success",
            "description": "",
            "description_tooltip": null,
            "layout": "IPY_MODEL_66cb55cc09474862af0dda9ea74aea94",
            "max": 200,
            "min": 0,
            "orientation": "horizontal",
            "style": "IPY_MODEL_ddc72bdd1c8c4c37ac80e54df46d7b9c",
            "value": 200
          }
        },
        "d6cb5ae93fa54b7fab23638acdcba48c": {
          "model_module": "@jupyter-widgets/controls",
          "model_name": "HTMLModel",
          "model_module_version": "1.5.0",
          "state": {
            "_dom_classes": [],
            "_model_module": "@jupyter-widgets/controls",
            "_model_module_version": "1.5.0",
            "_model_name": "HTMLModel",
            "_view_count": null,
            "_view_module": "@jupyter-widgets/controls",
            "_view_module_version": "1.5.0",
            "_view_name": "HTMLView",
            "description": "",
            "description_tooltip": null,
            "layout": "IPY_MODEL_6b6f363057ff4a37812fc86be95976af",
            "placeholder": "​",
            "style": "IPY_MODEL_6c5e00ec124643d38f3f68b078018b7c",
            "value": " 200/200 [2:00:04&lt;00:00, 47.95s/it]"
          }
        },
        "afd5294cb9734837bc842e5061ea2e36": {
          "model_module": "@jupyter-widgets/base",
          "model_name": "LayoutModel",
          "model_module_version": "1.2.0",
          "state": {
            "_model_module": "@jupyter-widgets/base",
            "_model_module_version": "1.2.0",
            "_model_name": "LayoutModel",
            "_view_count": null,
            "_view_module": "@jupyter-widgets/base",
            "_view_module_version": "1.2.0",
            "_view_name": "LayoutView",
            "align_content": null,
            "align_items": null,
            "align_self": null,
            "border": null,
            "bottom": null,
            "display": null,
            "flex": null,
            "flex_flow": null,
            "grid_area": null,
            "grid_auto_columns": null,
            "grid_auto_flow": null,
            "grid_auto_rows": null,
            "grid_column": null,
            "grid_gap": null,
            "grid_row": null,
            "grid_template_areas": null,
            "grid_template_columns": null,
            "grid_template_rows": null,
            "height": null,
            "justify_content": null,
            "justify_items": null,
            "left": null,
            "margin": null,
            "max_height": null,
            "max_width": null,
            "min_height": null,
            "min_width": null,
            "object_fit": null,
            "object_position": null,
            "order": null,
            "overflow": null,
            "overflow_x": null,
            "overflow_y": null,
            "padding": null,
            "right": null,
            "top": null,
            "visibility": null,
            "width": null
          }
        },
        "319cf6a786924beab5b786e985e7bf25": {
          "model_module": "@jupyter-widgets/base",
          "model_name": "LayoutModel",
          "model_module_version": "1.2.0",
          "state": {
            "_model_module": "@jupyter-widgets/base",
            "_model_module_version": "1.2.0",
            "_model_name": "LayoutModel",
            "_view_count": null,
            "_view_module": "@jupyter-widgets/base",
            "_view_module_version": "1.2.0",
            "_view_name": "LayoutView",
            "align_content": null,
            "align_items": null,
            "align_self": null,
            "border": null,
            "bottom": null,
            "display": null,
            "flex": null,
            "flex_flow": null,
            "grid_area": null,
            "grid_auto_columns": null,
            "grid_auto_flow": null,
            "grid_auto_rows": null,
            "grid_column": null,
            "grid_gap": null,
            "grid_row": null,
            "grid_template_areas": null,
            "grid_template_columns": null,
            "grid_template_rows": null,
            "height": null,
            "justify_content": null,
            "justify_items": null,
            "left": null,
            "margin": null,
            "max_height": null,
            "max_width": null,
            "min_height": null,
            "min_width": null,
            "object_fit": null,
            "object_position": null,
            "order": null,
            "overflow": null,
            "overflow_x": null,
            "overflow_y": null,
            "padding": null,
            "right": null,
            "top": null,
            "visibility": null,
            "width": null
          }
        },
        "d871a84afb234954bc67231ea58db72d": {
          "model_module": "@jupyter-widgets/controls",
          "model_name": "DescriptionStyleModel",
          "model_module_version": "1.5.0",
          "state": {
            "_model_module": "@jupyter-widgets/controls",
            "_model_module_version": "1.5.0",
            "_model_name": "DescriptionStyleModel",
            "_view_count": null,
            "_view_module": "@jupyter-widgets/base",
            "_view_module_version": "1.2.0",
            "_view_name": "StyleView",
            "description_width": ""
          }
        },
        "66cb55cc09474862af0dda9ea74aea94": {
          "model_module": "@jupyter-widgets/base",
          "model_name": "LayoutModel",
          "model_module_version": "1.2.0",
          "state": {
            "_model_module": "@jupyter-widgets/base",
            "_model_module_version": "1.2.0",
            "_model_name": "LayoutModel",
            "_view_count": null,
            "_view_module": "@jupyter-widgets/base",
            "_view_module_version": "1.2.0",
            "_view_name": "LayoutView",
            "align_content": null,
            "align_items": null,
            "align_self": null,
            "border": null,
            "bottom": null,
            "display": null,
            "flex": null,
            "flex_flow": null,
            "grid_area": null,
            "grid_auto_columns": null,
            "grid_auto_flow": null,
            "grid_auto_rows": null,
            "grid_column": null,
            "grid_gap": null,
            "grid_row": null,
            "grid_template_areas": null,
            "grid_template_columns": null,
            "grid_template_rows": null,
            "height": null,
            "justify_content": null,
            "justify_items": null,
            "left": null,
            "margin": null,
            "max_height": null,
            "max_width": null,
            "min_height": null,
            "min_width": null,
            "object_fit": null,
            "object_position": null,
            "order": null,
            "overflow": null,
            "overflow_x": null,
            "overflow_y": null,
            "padding": null,
            "right": null,
            "top": null,
            "visibility": null,
            "width": null
          }
        },
        "ddc72bdd1c8c4c37ac80e54df46d7b9c": {
          "model_module": "@jupyter-widgets/controls",
          "model_name": "ProgressStyleModel",
          "model_module_version": "1.5.0",
          "state": {
            "_model_module": "@jupyter-widgets/controls",
            "_model_module_version": "1.5.0",
            "_model_name": "ProgressStyleModel",
            "_view_count": null,
            "_view_module": "@jupyter-widgets/base",
            "_view_module_version": "1.2.0",
            "_view_name": "StyleView",
            "bar_color": null,
            "description_width": ""
          }
        },
        "6b6f363057ff4a37812fc86be95976af": {
          "model_module": "@jupyter-widgets/base",
          "model_name": "LayoutModel",
          "model_module_version": "1.2.0",
          "state": {
            "_model_module": "@jupyter-widgets/base",
            "_model_module_version": "1.2.0",
            "_model_name": "LayoutModel",
            "_view_count": null,
            "_view_module": "@jupyter-widgets/base",
            "_view_module_version": "1.2.0",
            "_view_name": "LayoutView",
            "align_content": null,
            "align_items": null,
            "align_self": null,
            "border": null,
            "bottom": null,
            "display": null,
            "flex": null,
            "flex_flow": null,
            "grid_area": null,
            "grid_auto_columns": null,
            "grid_auto_flow": null,
            "grid_auto_rows": null,
            "grid_column": null,
            "grid_gap": null,
            "grid_row": null,
            "grid_template_areas": null,
            "grid_template_columns": null,
            "grid_template_rows": null,
            "height": null,
            "justify_content": null,
            "justify_items": null,
            "left": null,
            "margin": null,
            "max_height": null,
            "max_width": null,
            "min_height": null,
            "min_width": null,
            "object_fit": null,
            "object_position": null,
            "order": null,
            "overflow": null,
            "overflow_x": null,
            "overflow_y": null,
            "padding": null,
            "right": null,
            "top": null,
            "visibility": null,
            "width": null
          }
        },
        "6c5e00ec124643d38f3f68b078018b7c": {
          "model_module": "@jupyter-widgets/controls",
          "model_name": "DescriptionStyleModel",
          "model_module_version": "1.5.0",
          "state": {
            "_model_module": "@jupyter-widgets/controls",
            "_model_module_version": "1.5.0",
            "_model_name": "DescriptionStyleModel",
            "_view_count": null,
            "_view_module": "@jupyter-widgets/base",
            "_view_module_version": "1.2.0",
            "_view_name": "StyleView",
            "description_width": ""
          }
        }
      }
    }
  },
  "nbformat": 4,
  "nbformat_minor": 0
}